{
 "cells": [
  {
   "cell_type": "code",
   "execution_count": 24,
   "metadata": {
    "collapsed": true
   },
   "outputs": [],
   "source": [
    "import pandas as pd\n",
    "import matplotlib.pyplot as plt\n",
    "from pybaseball import team_game_logs, schedule_and_record"
   ]
  },
  {
   "cell_type": "markdown",
   "source": [
    "Get Mets data from 2013-2023"
   ],
   "metadata": {
    "collapsed": false
   }
  },
  {
   "cell_type": "code",
   "execution_count": 25,
   "outputs": [],
   "source": [
    "# Get the Mets game logs for the last 10 years\n",
    "years = list(range(2013, 2024))  # Adjust this range as needed\n",
    "frames = []\n",
    "\n",
    "for year in years:\n",
    "    logs = schedule_and_record(year, \"NYM\")\n",
    "    # Remove the \"(1)\" style suffixes from the \"Date\" column\n",
    "    logs['Date'] = logs['Date'].str.replace(r' \\(\\d+\\)$', '', regex=True)\n",
    "    logs['Date'] = logs['Date'] + f\", {year}\"\n",
    "    # Convert the \"Date\" column to datetime format\n",
    "    logs['Date'] = pd.to_datetime(logs['Date'], format='%A, %b %d, %Y')\n",
    "    frames.append(logs)"
   ],
   "metadata": {
    "collapsed": false
   }
  },
  {
   "cell_type": "code",
   "execution_count": 26,
   "outputs": [],
   "source": [
    "all_data = pd.concat(frames)\n",
    "\n",
    "# Filter for home games\n",
    "home_games = all_data[all_data['Home_Away'] == 'Home']"
   ],
   "metadata": {
    "collapsed": false
   }
  },
  {
   "cell_type": "code",
   "execution_count": 27,
   "outputs": [
    {
     "data": {
      "text/plain": "<matplotlib.lines.Line2D at 0x1efd4b327f0>"
     },
     "execution_count": 27,
     "metadata": {},
     "output_type": "execute_result"
    },
    {
     "data": {
      "text/plain": "<Figure size 720x432 with 1 Axes>",
      "image/png": "[encoded data removed]"
     },
     "metadata": {
      "needs_background": "light"
     },
     "output_type": "display_data"
    }
   ],
   "source": [
    "# Group by year and sum attendance\n",
    "attendance_by_year = home_games.groupby(home_games['Date'].dt.year)['Attendance'].sum()\n",
    "\n",
    "# Compute the average attendance\n",
    "average_attendance = attendance_by_year.median()\n",
    "\n",
    "# Plot\n",
    "fig, ax = plt.subplots(figsize=(10,6))\n",
    "attendance_by_year.plot(kind='bar', ax=ax)\n",
    "ax.axhline(average_attendance, color='red', linestyle='dashed', linewidth=1)"
   ],
   "metadata": {
    "collapsed": false
   }
  },
  {
   "cell_type": "code",
   "execution_count": 28,
   "outputs": [
    {
     "name": "stderr",
     "output_type": "stream",
     "text": [
      "<ipython-input-28-a30e80e30af5>:2: SettingWithCopyWarning: \n",
      "A value is trying to be set on a copy of a slice from a DataFrame.\n",
      "Try using .loc[row_indexer,col_indexer] = value instead\n",
      "\n",
      "See the caveats in the documentation: https://pandas.pydata.org/pandas-docs/stable/user_guide/indexing.html#returning-a-view-versus-a-copy\n",
      "  home_games['Year'] = home_games['Date'].dt.year\n",
      "<ipython-input-28-a30e80e30af5>:3: SettingWithCopyWarning: \n",
      "A value is trying to be set on a copy of a slice from a DataFrame.\n",
      "Try using .loc[row_indexer,col_indexer] = value instead\n",
      "\n",
      "See the caveats in the documentation: https://pandas.pydata.org/pandas-docs/stable/user_guide/indexing.html#returning-a-view-versus-a-copy\n",
      "  home_games['Month'] = home_games['Date'].dt.month\n"
     ]
    },
    {
     "data": {
      "text/plain": "<Figure size 1080x576 with 1 Axes>",
      "image/png": "[encoded data removed]"
     },
     "metadata": {
      "needs_background": "light"
     },
     "output_type": "display_data"
    }
   ],
   "source": [
    "# Group by year and month, then sum attendance\n",
    "home_games['Year'] = home_games['Date'].dt.year\n",
    "home_games['Month'] = home_games['Date'].dt.month\n",
    "home_games = home_games[home_games['Month'].isin([4, 5, 6, 7, 8, 9])]\n",
    "\n",
    "attendance_by_month_year = home_games.groupby(['Year', 'Month'])['Attendance'].sum().unstack()\n",
    "\n",
    "# Plot\n",
    "attendance_by_month_year.plot(kind='bar', figsize=(15,8), stacked=True)\n",
    "plt.title(\"Mets Attendance Over the Last 10 Years (Month-by-Month)\")\n",
    "plt.xlabel(\"Year\")\n",
    "plt.ylabel(\"Total Attendance\")\n",
    "plt.legend(title=\"Month\", labels=['April', 'May', 'June', 'July', 'Aug', 'Sept'])\n",
    "plt.show()"
   ],
   "metadata": {
    "collapsed": false
   }
  },
  {
   "cell_type": "code",
   "execution_count": 29,
   "outputs": [
    {
     "data": {
      "text/plain": "<pandas.io.formats.style.Styler at 0x1efd4841eb0>",
      "text/html": "<style  type=\"text/css\" >\n#T_2ae2d_row0_col0,#T_2ae2d_row1_col0,#T_2ae2d_row2_col0,#T_2ae2d_row3_col0,#T_2ae2d_row4_col0,#T_2ae2d_row5_col0,#T_2ae2d_row6_col0,#T_2ae2d_row7_col0,#T_2ae2d_row8_col0,#T_2ae2d_row9_col0,#T_2ae2d_row10_col0{\n            text-align:  left;\n        }#T_2ae2d_row0_col1{\n            width:  10em;\n             height:  80%;\n            background:  linear-gradient(90deg,#d65f5f 64.6%, transparent 64.6%);\n            text-align:  left;\n        }#T_2ae2d_row1_col1{\n            width:  10em;\n             height:  80%;\n            background:  linear-gradient(90deg,#d65f5f 68.8%, transparent 68.8%);\n            text-align:  left;\n        }#T_2ae2d_row2_col1{\n            width:  10em;\n             height:  80%;\n            background:  linear-gradient(90deg,#d65f5f 81.8%, transparent 81.8%);\n            text-align:  left;\n        }#T_2ae2d_row3_col1{\n            width:  10em;\n             height:  80%;\n            background:  linear-gradient(90deg,#d65f5f 89.5%, transparent 89.5%);\n            text-align:  left;\n        }#T_2ae2d_row4_col1{\n            width:  10em;\n             height:  80%;\n            background:  linear-gradient(90deg,#d65f5f 71.4%, transparent 71.4%);\n            text-align:  left;\n        }#T_2ae2d_row5_col1{\n            width:  10em;\n             height:  80%;\n            background:  linear-gradient(90deg,#d65f5f 71.5%, transparent 71.5%);\n            text-align:  left;\n        }#T_2ae2d_row6_col1{\n            width:  10em;\n             height:  80%;\n            background:  linear-gradient(90deg,#d65f5f 79.0%, transparent 79.0%);\n            text-align:  left;\n        }#T_2ae2d_row7_col1{\n            width:  10em;\n             height:  80%;\n            text-align:  left;\n        }#T_2ae2d_row8_col1{\n            width:  10em;\n             height:  80%;\n            background:  linear-gradient(90deg,#d65f5f 57.2%, transparent 57.2%);\n            text-align:  left;\n        }#T_2ae2d_row9_col1{\n            width:  10em;\n             height:  80%;\n            background:  linear-gradient(90deg,#d65f5f 100.0%, transparent 100.0%);\n            text-align:  left;\n        }#T_2ae2d_row10_col1{\n            width:  10em;\n             height:  80%;\n            background:  linear-gradient(90deg,#d65f5f 81.5%, transparent 81.5%);\n            text-align:  left;\n        }</style><table id=\"T_2ae2d_\" ><caption>Best Months of Attendance Yearly</caption><thead>    <tr>        <th class=\"index_name level0\" >Month</th>        <th class=\"col_heading level0 col0\" >Best Month</th>        <th class=\"col_heading level0 col1\" >Best Attendance</th>    </tr>    <tr>        <th class=\"index_name level0\" >Year</th>        <th class=\"blank\" ></th>        <th class=\"blank\" ></th>    </tr></thead><tbody>\n                <tr>\n                        <th id=\"T_2ae2d_level0_row0\" class=\"row_heading level0 row0\" >2013</th>\n                        <td id=\"T_2ae2d_row0_col0\" class=\"data row0 col0\" >Aug</td>\n                        <td id=\"T_2ae2d_row0_col1\" class=\"data row0 col1\" >414,662</td>\n            </tr>\n            <tr>\n                        <th id=\"T_2ae2d_level0_row1\" class=\"row_heading level0 row1\" >2014</th>\n                        <td id=\"T_2ae2d_row1_col0\" class=\"data row1 col0\" >Aug</td>\n                        <td id=\"T_2ae2d_row1_col1\" class=\"data row1 col1\" >441,538</td>\n            </tr>\n            <tr>\n                        <th id=\"T_2ae2d_level0_row2\" class=\"row_heading level0 row2\" >2015</th>\n                        <td id=\"T_2ae2d_row2_col0\" class=\"data row2 col0\" >May</td>\n                        <td id=\"T_2ae2d_row2_col1\" class=\"data row2 col1\" >525,447</td>\n            </tr>\n            <tr>\n                        <th id=\"T_2ae2d_level0_row3\" class=\"row_heading level0 row3\" >2016</th>\n                        <td id=\"T_2ae2d_row3_col0\" class=\"data row3 col0\" >Jul</td>\n                        <td id=\"T_2ae2d_row3_col1\" class=\"data row3 col1\" >574,784</td>\n            </tr>\n            <tr>\n                        <th id=\"T_2ae2d_level0_row4\" class=\"row_heading level0 row4\" >2017</th>\n                        <td id=\"T_2ae2d_row4_col0\" class=\"data row4 col0\" >May</td>\n                        <td id=\"T_2ae2d_row4_col1\" class=\"data row4 col1\" >458,215</td>\n            </tr>\n            <tr>\n                        <th id=\"T_2ae2d_level0_row5\" class=\"row_heading level0 row5\" >2018</th>\n                        <td id=\"T_2ae2d_row5_col0\" class=\"data row5 col0\" >Jun</td>\n                        <td id=\"T_2ae2d_row5_col1\" class=\"data row5 col1\" >458,861</td>\n            </tr>\n            <tr>\n                        <th id=\"T_2ae2d_level0_row6\" class=\"row_heading level0 row6\" >2019</th>\n                        <td id=\"T_2ae2d_row6_col0\" class=\"data row6 col0\" >Aug</td>\n                        <td id=\"T_2ae2d_row6_col1\" class=\"data row6 col1\" >507,538</td>\n            </tr>\n            <tr>\n                        <th id=\"T_2ae2d_level0_row7\" class=\"row_heading level0 row7\" >2020</th>\n                        <td id=\"T_2ae2d_row7_col0\" class=\"data row7 col0\" >Jul</td>\n                        <td id=\"T_2ae2d_row7_col1\" class=\"data row7 col1\" >7</td>\n            </tr>\n            <tr>\n                        <th id=\"T_2ae2d_level0_row8\" class=\"row_heading level0 row8\" >2021</th>\n                        <td id=\"T_2ae2d_row8_col0\" class=\"data row8 col0\" >Jul</td>\n                        <td id=\"T_2ae2d_row8_col1\" class=\"data row8 col1\" >367,595</td>\n            </tr>\n            <tr>\n                        <th id=\"T_2ae2d_level0_row9\" class=\"row_heading level0 row9\" >2022</th>\n                        <td id=\"T_2ae2d_row9_col0\" class=\"data row9 col0\" >Aug</td>\n                        <td id=\"T_2ae2d_row9_col1\" class=\"data row9 col1\" >642,184</td>\n            </tr>\n            <tr>\n                        <th id=\"T_2ae2d_level0_row10\" class=\"row_heading level0 row10\" >2023</th>\n                        <td id=\"T_2ae2d_row10_col0\" class=\"data row10 col0\" >Jun</td>\n                        <td id=\"T_2ae2d_row10_col1\" class=\"data row10 col1\" >523,358</td>\n            </tr>\n    </tbody></table>"
     },
     "execution_count": 29,
     "metadata": {},
     "output_type": "execute_result"
    }
   ],
   "source": [
    "# Identify the best month for each year\n",
    "attendance_by_month_year['Best Month'] = attendance_by_month_year.idxmax(axis=1)\n",
    "attendance_by_month_year['Best Attendance'] = attendance_by_month_year.max(axis=1)\n",
    "\n",
    "# Prepare a dictionary for month number to name conversion\n",
    "month_map = {4: 'Apr', 5: 'May', 6: 'Jun', 7: 'Jul', 8: 'Aug', 9: 'Sep'}\n",
    "attendance_by_month_year['Best Month'] = attendance_by_month_year['Best Month'].replace(month_map)\n",
    "\n",
    "# Display the best months and their attendance\n",
    "best_months_table = attendance_by_month_year[['Best Month', 'Best Attendance']]\n",
    "\n",
    "# Style the table\n",
    "styled_table = best_months_table.style.bar(subset=['Best Attendance'], color='#d65f5f', align='left').format({\n",
    "    'Best Attendance': \"{:,.0f}\"\n",
    "}).set_properties(**{'text-align': 'left'}).set_caption(\"Best Months of Attendance Yearly\")\n",
    "\n",
    "styled_table"
   ],
   "metadata": {
    "collapsed": false
   }
  },
  {
   "cell_type": "code",
   "execution_count": 31,
   "outputs": [
    {
     "name": "stdout",
     "output_type": "stream",
     "text": [
      "Date\n",
      "Friday       31529.813008\n",
      "Monday       26366.385714\n",
      "Saturday     34077.679688\n",
      "Sunday       31540.330709\n",
      "Thursday     28101.383721\n",
      "Tuesday      26370.364407\n",
      "Wednesday    27095.495798\n",
      "Name: Attendance, dtype: float64\n",
      "The best day for attendance is: Saturday\n"
     ]
    }
   ],
   "source": [
    "# Best day of the week for attendance\n",
    "best_day = home_games.groupby(home_games['Date'].dt.day_name())['Attendance'].mean().idxmax()\n",
    "day_of_week_attendance = home_games.groupby(home_games['Date'].dt.day_name())['Attendance'].mean()\n",
    "\n",
    "print(day_of_week_attendance)\n",
    "print(f\"The best day for attendance is: {best_day}\")\n",
    "\n",
    "# Opponents that bring in most attendance\n",
    "opponent_attendance = home_games.groupby('Opp')['Attendance'].mean()\n",
    "best_opponent = home_games.groupby('Opp')['Attendance'].mean().idxmax()\n",
    "\n",
    "print(opponent_attendance)\n",
    "print(f\"The opponent that draws the most attendance is: {best_opponent}\")"
   ],
   "metadata": {
    "collapsed": false
   }
  },
  {
   "cell_type": "code",
   "execution_count": 38,
   "outputs": [
    {
     "name": "stdout",
     "output_type": "stream",
     "text": [
      "Mean Squared Error: 46581115.677333735\n",
      "R-squared: 0.004769031469562757\n"
     ]
    }
   ],
   "source": [
    "import pandas as pd\n",
    "from sklearn.model_selection import train_test_split\n",
    "from sklearn.linear_model import LinearRegression\n",
    "from sklearn.metrics import mean_squared_error, r2_score\n",
    "\n",
    "home_games = home_games.dropna(subset=[\"Attendance\"])\n",
    "\n",
    "# Assuming you have a DataFrame 'data' with relevant features including 'Attendance'.\n",
    "\n",
    "# Feature selection - choose relevant features\n",
    "selected_features = ['Month']\n",
    "\n",
    "# Create a new DataFrame with selected features\n",
    "X = home_games[selected_features]\n",
    "\n",
    "# Target variable\n",
    "y = home_games['Attendance']\n",
    "\n",
    "# One-hot encode categorical variables (e.g., 'DayOfWeek' and 'Opponent')\n",
    "X_encoded = pd.get_dummies(X, columns=['Month'], drop_first=True)\n",
    "\n",
    "# Split the data into training and testing sets\n",
    "X_train, X_test, y_train, y_test = train_test_split(X_encoded, y, test_size=0.2, random_state=42)\n",
    "\n",
    "# Initialize and train a linear regression model\n",
    "model = LinearRegression()\n",
    "model.fit(X_train, y_train)\n",
    "\n",
    "# Make predictions\n",
    "y_pred = model.predict(X_test)\n",
    "\n",
    "# Evaluate the model\n",
    "mse = mean_squared_error(y_test, y_pred)\n",
    "r2 = r2_score(y_test, y_pred)\n",
    "\n",
    "print(f\"Mean Squared Error: {mse}\")\n",
    "print(f\"R-squared: {r2}\")\n",
    "\n",
    "# You can also use the model to predict attendance for new data points\n",
    "# new_data = pd.DataFrame({'DayOfWeek': ['Sunday'], 'Opponent': ['Opponent_X'], 'Weather': ['Sunny'], 'TeamPerformance': [0.75], 'Promotion': [1]})\n",
    "# new_data_encoded = pd.get_dummies(new_data, columns=['DayOfWeek', 'Opponent'], drop_first=True)\n",
    "# predicted_attendance = model.predict(new_data_encoded)\n"
   ],
   "metadata": {
    "collapsed": false
   }
  },
  {
   "cell_type": "code",
   "execution_count": 52,
   "outputs": [
    {
     "data": {
      "text/plain": "98     43693.0\n102    40035.0\n67     43707.0\n78     24506.0\n79     35295.0\n        ...   \n133    38389.0\n52     35123.0\n22     44466.0\n62     33268.0\n127    35636.0\nName: Attendance, Length: 155, dtype: float64"
     },
     "execution_count": 52,
     "metadata": {},
     "output_type": "execute_result"
    }
   ],
   "source": [
    "y_test"
   ],
   "metadata": {
    "collapsed": false
   }
  },
  {
   "cell_type": "code",
   "execution_count": 53,
   "outputs": [
    {
     "ename": "KeyError",
     "evalue": "'Attendance'",
     "output_type": "error",
     "traceback": [
      "\u001B[1;31m---------------------------------------------------------------------------\u001B[0m",
      "\u001B[1;31mKeyError\u001B[0m                                  Traceback (most recent call last)",
      "File \u001B[1;32mc:\\users\\jake\\appdata\\local\\programs\\python\\python39\\lib\\site-packages\\pandas\\core\\indexes\\base.py:3080\u001B[0m, in \u001B[0;36mIndex.get_loc\u001B[1;34m(self, key, method, tolerance)\u001B[0m\n\u001B[0;32m   3079\u001B[0m \u001B[38;5;28;01mtry\u001B[39;00m:\n\u001B[1;32m-> 3080\u001B[0m     \u001B[38;5;28;01mreturn\u001B[39;00m \u001B[38;5;28;43mself\u001B[39;49m\u001B[38;5;241;43m.\u001B[39;49m\u001B[43m_engine\u001B[49m\u001B[38;5;241;43m.\u001B[39;49m\u001B[43mget_loc\u001B[49m\u001B[43m(\u001B[49m\u001B[43mcasted_key\u001B[49m\u001B[43m)\u001B[49m\n\u001B[0;32m   3081\u001B[0m \u001B[38;5;28;01mexcept\u001B[39;00m \u001B[38;5;167;01mKeyError\u001B[39;00m \u001B[38;5;28;01mas\u001B[39;00m err:\n",
      "File \u001B[1;32mpandas\\_libs\\index.pyx:70\u001B[0m, in \u001B[0;36mpandas._libs.index.IndexEngine.get_loc\u001B[1;34m()\u001B[0m\n",
      "File \u001B[1;32mpandas\\_libs\\index.pyx:96\u001B[0m, in \u001B[0;36mpandas._libs.index.IndexEngine.get_loc\u001B[1;34m()\u001B[0m\n",
      "File \u001B[1;32mpandas\\_libs\\index.pyx:126\u001B[0m, in \u001B[0;36mpandas._libs.index.IndexEngine._get_loc_duplicates\u001B[1;34m()\u001B[0m\n",
      "File \u001B[1;32mpandas\\_libs\\index.pyx:101\u001B[0m, in \u001B[0;36mpandas._libs.index.IndexEngine.get_loc\u001B[1;34m()\u001B[0m\n",
      "File \u001B[1;32mpandas\\_libs\\index_class_helper.pxi:89\u001B[0m, in \u001B[0;36mpandas._libs.index.Int64Engine._check_type\u001B[1;34m()\u001B[0m\n",
      "\u001B[1;31mKeyError\u001B[0m: 'Attendance'",
      "\nThe above exception was the direct cause of the following exception:\n",
      "\u001B[1;31mKeyError\u001B[0m                                  Traceback (most recent call last)",
      "Cell \u001B[1;32mIn[53], line 3\u001B[0m\n\u001B[0;32m      1\u001B[0m \u001B[38;5;66;03m# Plot\u001B[39;00m\n\u001B[0;32m      2\u001B[0m plt\u001B[38;5;241m.\u001B[39mfigure(figsize\u001B[38;5;241m=\u001B[39m(\u001B[38;5;241m10\u001B[39m, \u001B[38;5;241m6\u001B[39m))\n\u001B[1;32m----> 3\u001B[0m plt\u001B[38;5;241m.\u001B[39mplot(\u001B[43my_test\u001B[49m\u001B[43m[\u001B[49m\u001B[38;5;124;43m'\u001B[39;49m\u001B[38;5;124;43mAttendance\u001B[39;49m\u001B[38;5;124;43m'\u001B[39;49m\u001B[43m]\u001B[49m, label\u001B[38;5;241m=\u001B[39m\u001B[38;5;124m'\u001B[39m\u001B[38;5;124mActual Attendance\u001B[39m\u001B[38;5;124m'\u001B[39m, marker\u001B[38;5;241m=\u001B[39m\u001B[38;5;124m'\u001B[39m\u001B[38;5;124mo\u001B[39m\u001B[38;5;124m'\u001B[39m)\n\u001B[0;32m      4\u001B[0m plt\u001B[38;5;241m.\u001B[39mplot(y_pred[\u001B[38;5;241m0\u001B[39m], label\u001B[38;5;241m=\u001B[39m\u001B[38;5;124m'\u001B[39m\u001B[38;5;124mPredicted Attendance\u001B[39m\u001B[38;5;124m'\u001B[39m, marker\u001B[38;5;241m=\u001B[39m\u001B[38;5;124m'\u001B[39m\u001B[38;5;124mx\u001B[39m\u001B[38;5;124m'\u001B[39m)\n\u001B[0;32m      5\u001B[0m plt\u001B[38;5;241m.\u001B[39mtitle(\u001B[38;5;124m'\u001B[39m\u001B[38;5;124mActual vs Predicted Attendance\u001B[39m\u001B[38;5;124m'\u001B[39m)\n",
      "File \u001B[1;32mc:\\users\\jake\\appdata\\local\\programs\\python\\python39\\lib\\site-packages\\pandas\\core\\series.py:853\u001B[0m, in \u001B[0;36mSeries.__getitem__\u001B[1;34m(self, key)\u001B[0m\n\u001B[0;32m    850\u001B[0m     \u001B[38;5;28;01mreturn\u001B[39;00m \u001B[38;5;28mself\u001B[39m\u001B[38;5;241m.\u001B[39m_values[key]\n\u001B[0;32m    852\u001B[0m \u001B[38;5;28;01melif\u001B[39;00m key_is_scalar:\n\u001B[1;32m--> 853\u001B[0m     \u001B[38;5;28;01mreturn\u001B[39;00m \u001B[38;5;28;43mself\u001B[39;49m\u001B[38;5;241;43m.\u001B[39;49m\u001B[43m_get_value\u001B[49m\u001B[43m(\u001B[49m\u001B[43mkey\u001B[49m\u001B[43m)\u001B[49m\n\u001B[0;32m    855\u001B[0m \u001B[38;5;28;01mif\u001B[39;00m is_hashable(key):\n\u001B[0;32m    856\u001B[0m     \u001B[38;5;66;03m# Otherwise index.get_value will raise InvalidIndexError\u001B[39;00m\n\u001B[0;32m    857\u001B[0m     \u001B[38;5;28;01mtry\u001B[39;00m:\n\u001B[0;32m    858\u001B[0m         \u001B[38;5;66;03m# For labels that don't resolve as scalars like tuples and frozensets\u001B[39;00m\n",
      "File \u001B[1;32mc:\\users\\jake\\appdata\\local\\programs\\python\\python39\\lib\\site-packages\\pandas\\core\\series.py:961\u001B[0m, in \u001B[0;36mSeries._get_value\u001B[1;34m(self, label, takeable)\u001B[0m\n\u001B[0;32m    958\u001B[0m     \u001B[38;5;28;01mreturn\u001B[39;00m \u001B[38;5;28mself\u001B[39m\u001B[38;5;241m.\u001B[39m_values[label]\n\u001B[0;32m    960\u001B[0m \u001B[38;5;66;03m# Similar to Index.get_value, but we do not fall back to positional\u001B[39;00m\n\u001B[1;32m--> 961\u001B[0m loc \u001B[38;5;241m=\u001B[39m \u001B[38;5;28;43mself\u001B[39;49m\u001B[38;5;241;43m.\u001B[39;49m\u001B[43mindex\u001B[49m\u001B[38;5;241;43m.\u001B[39;49m\u001B[43mget_loc\u001B[49m\u001B[43m(\u001B[49m\u001B[43mlabel\u001B[49m\u001B[43m)\u001B[49m\n\u001B[0;32m    962\u001B[0m \u001B[38;5;28;01mreturn\u001B[39;00m \u001B[38;5;28mself\u001B[39m\u001B[38;5;241m.\u001B[39mindex\u001B[38;5;241m.\u001B[39m_get_values_for_loc(\u001B[38;5;28mself\u001B[39m, loc, label)\n",
      "File \u001B[1;32mc:\\users\\jake\\appdata\\local\\programs\\python\\python39\\lib\\site-packages\\pandas\\core\\indexes\\base.py:3082\u001B[0m, in \u001B[0;36mIndex.get_loc\u001B[1;34m(self, key, method, tolerance)\u001B[0m\n\u001B[0;32m   3080\u001B[0m         \u001B[38;5;28;01mreturn\u001B[39;00m \u001B[38;5;28mself\u001B[39m\u001B[38;5;241m.\u001B[39m_engine\u001B[38;5;241m.\u001B[39mget_loc(casted_key)\n\u001B[0;32m   3081\u001B[0m     \u001B[38;5;28;01mexcept\u001B[39;00m \u001B[38;5;167;01mKeyError\u001B[39;00m \u001B[38;5;28;01mas\u001B[39;00m err:\n\u001B[1;32m-> 3082\u001B[0m         \u001B[38;5;28;01mraise\u001B[39;00m \u001B[38;5;167;01mKeyError\u001B[39;00m(key) \u001B[38;5;28;01mfrom\u001B[39;00m \u001B[38;5;21;01merr\u001B[39;00m\n\u001B[0;32m   3084\u001B[0m \u001B[38;5;28;01mif\u001B[39;00m tolerance \u001B[38;5;129;01mis\u001B[39;00m \u001B[38;5;129;01mnot\u001B[39;00m \u001B[38;5;28;01mNone\u001B[39;00m:\n\u001B[0;32m   3085\u001B[0m     tolerance \u001B[38;5;241m=\u001B[39m \u001B[38;5;28mself\u001B[39m\u001B[38;5;241m.\u001B[39m_convert_tolerance(tolerance, np\u001B[38;5;241m.\u001B[39masarray(key))\n",
      "\u001B[1;31mKeyError\u001B[0m: 'Attendance'"
     ]
    },
    {
     "data": {
      "text/plain": "<Figure size 720x432 with 0 Axes>"
     },
     "metadata": {},
     "output_type": "display_data"
    }
   ],
   "source": [
    "# Plot\n",
    "plt.figure(figsize=(10, 6))\n",
    "plt.plot(y_test['Attendance'], label='Actual Attendance', marker='o')\n",
    "plt.plot(y_pred[0], label='Predicted Attendance', marker='x')\n",
    "plt.title('Actual vs Predicted Attendance')\n",
    "plt.xlabel('Games')\n",
    "plt.ylabel('Attendance')\n",
    "plt.legend()\n",
    "plt.grid(True)\n",
    "plt.show()"
   ],
   "metadata": {
    "collapsed": false
   }
  }
 ],
 "metadata": {
  "kernelspec": {
   "display_name": "Python 3",
   "language": "python",
   "name": "python3"
  },
  "language_info": {
   "codemirror_mode": {
    "name": "ipython",
    "version": 2
   },
   "file_extension": ".py",
   "mimetype": "text/x-python",
   "name": "python",
   "nbconvert_exporter": "python",
   "pygments_lexer": "ipython2",
   "version": "2.7.6"
  }
 },
 "nbformat": 4,
 "nbformat_minor": 0
}
